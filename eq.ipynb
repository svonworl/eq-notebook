{
  "nbformat": 4,
  "nbformat_minor": 0,
  "metadata": {
    "colab": {
      "provenance": [],
      "authorship_tag": "ABX9TyOvihAxHYcHRNfCqilp5Zgg",
      "include_colab_link": true
    },
    "kernelspec": {
      "name": "python3",
      "display_name": "Python 3"
    },
    "language_info": {
      "name": "python"
    },
    "authors": [
      { "name": "Author Two" },
      { "name": "Author One" }
    ]
  },
  "cells": [
    {
      "cell_type": "markdown",
      "source": [
        "A notebook bith an equation.\n\n",
        "The equation: $E = mc^2$\n\n",
        "The end.\n"
      ],
      "metadata": {
        "id": "PSOLAGuMMaYg"
      }
    }
  ]
}
